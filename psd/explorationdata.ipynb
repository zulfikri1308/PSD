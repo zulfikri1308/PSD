{
 "cells": [
  {
   "cell_type": "code",
   "execution_count": null,
   "id": "01774146",
   "metadata": {
    "vscode": {
     "languageId": "plaintext"
    }
   },
   "outputs": [],
   "source": [
    "yareuuu"
   ]
  }
 ],
 "metadata": {
  "language_info": {
   "name": "python"
  }
 },
 "nbformat": 4,
 "nbformat_minor": 5
}
