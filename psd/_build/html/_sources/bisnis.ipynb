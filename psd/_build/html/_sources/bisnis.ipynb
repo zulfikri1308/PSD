{
 "cells": [
  {
   "cell_type": "markdown",
   "id": "a5731ddb",
   "metadata": {},
   "source": [
    "# Bussiness Understanding\n",
    "# Bussiness Understanding\n",
    "\n"
   ]
  }
 ],
 "metadata": {
  "language_info": {
   "name": "python"
  }
 },
 "nbformat": 4,
 "nbformat_minor": 5
}
