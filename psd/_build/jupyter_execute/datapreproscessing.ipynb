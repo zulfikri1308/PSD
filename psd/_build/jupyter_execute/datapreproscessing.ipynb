{
 "cells": [
  {
   "cell_type": "markdown",
   "id": "f6ef6ae0",
   "metadata": {},
   "source": [
    "# Data Preproscessing\n",
    "\n",
    "Lorem ipsum dolor sit amet, consectetur adipiscing elit. Integer rutrum, arcu non lobortis mollis, nisi tortor fermentum nulla, eu pharetra dolor tortor vitae enim. Nullam cursus pellentesque lacus vel sagittis. Sed in gravida justo. In eu porttitor risus, et commodo nibh. Morbi at mauris tempor, mollis ipsum at, placerat augue. Aenean imperdiet ultrices nisi sodales hendrerit. Nunc accumsan purus augue, quis facilisis orci aliquam ut. Sed varius ipsum malesuada auctor faucibus. Curabitur rhoncus turpis sit amet justo condimentum lobortis at id sem. Nam laoreet dictum purus. Sed ullamcorper, lectus sed blandit dignissim, eros lorem finibus tortor, vel aliquet risus quam eleifend lorem.\n",
    "\n",
    "Suspendisse sollicitudin vitae leo id lobortis. Quisque rutrum sem eget elementum laoreet. Integer scelerisque ligula non suscipit faucibus. Aliquam augue odio, pellentesque vitae nulla ut, convallis dapibus quam. Ut ante metus, vestibulum scelerisque libero ornare, congue consequat leo. Cras eget tempus sem, id accumsan elit. Aliquam scelerisque lorem non risus elementum laoreet. Vivamus vitae interdum felis. Donec at finibus sapien, sit amet tempor ex. Cras eget maximus nibh. Quisque fringilla, ligula vel sodales consectetur, enim augue varius nunc, sodales finibus justo nunc nec lectus. Maecenas sit amet tempor massa, eu mattis sem.\n",
    "\n",
    "Mauris laoreet ullamcorper sapien vitae pharetra. Fusce ornare fermentum ullamcorper. Cras in elit consectetur, fermentum nibh vel, posuere tellus. In in tellus a tortor rhoncus ullamcorper at sit amet nisl. Interdum et malesuada fames ac ante ipsum primis in faucibus. Cras aliquet sagittis erat vel consectetur. Phasellus pharetra arcu sed quam aliquet iaculis. Interdum et malesuada fames ac ante ipsum primis in faucibus. Ut non elementum est. Proin vitae enim mattis, pharetra lorem quis, aliquet sem. Ut non posuere lectus. Proin quis lacinia lacus, in facilisis quam. Maecenas arcu nunc, rhoncus sit amet vestibulum non, mollis sed felis. Mauris lobortis nisl urna, et egestas enim posuere in. Aenean mattis eros odio, quis mattis ligula tincidunt vestibulum."
   ]
  }
 ],
 "metadata": {
  "kernelspec": {
   "display_name": "Python 3",
   "language": "python",
   "name": "python3"
  },
  "language_info": {
   "codemirror_mode": {
    "name": "ipython",
    "version": 3
   },
   "file_extension": ".py",
   "mimetype": "text/x-python",
   "name": "python",
   "nbconvert_exporter": "python",
   "pygments_lexer": "ipython3",
   "version": "3.11.5"
  }
 },
 "nbformat": 4,
 "nbformat_minor": 5
}