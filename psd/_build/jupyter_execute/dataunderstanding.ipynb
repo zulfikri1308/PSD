{
 "cells": [
  {
   "cell_type": "markdown",
   "id": "bdab34d9",
   "metadata": {},
   "source": [
    "# Data Understanding\n",
    "\n",
    "Disini saya menggunakan dataset coffe_sales yang saya dapat dari kaggle dan saya menggunakan postgres dan DBeaver.\n",
    "\n",
    "berikut code untuk menghubungkan Powerbi dengan Postgres dengan menggunakan Script Python:"
   ]
  },
  {
   "cell_type": "code",
   "execution_count": 1,
   "id": "b502746e",
   "metadata": {
    "vscode": {
     "languageId": "plaintext"
    }
   },
   "outputs": [
    {
     "ename": "SyntaxError",
     "evalue": "invalid syntax (3502461578.py, line 5)",
     "output_type": "error",
     "traceback": [
      "  \u001b[36mCell\u001b[39m\u001b[36m \u001b[39m\u001b[32mIn[1]\u001b[39m\u001b[32m, line 5\u001b[39m\n\u001b[31m    \u001b[39m\u001b[31musername = \"postgres\"password = \"admin\"\u001b[39m\n                         ^\n\u001b[31mSyntaxError\u001b[39m\u001b[31m:\u001b[39m invalid syntax\n"
     ]
    }
   ],
   "source": [
    "import pandas as pd\n",
    "from sqlalchemy import create_engine\n",
    "\n",
    "# Konfigurasi koneksi PostgreSQL\n",
    "username = \"postgres\"password = \"admin\"   \n",
    "host = \"localhost\"         \n",
    "port = \"5432\"              \n",
    "database = \"postgres\"      \n",
    "\n",
    "# Buat koneksi ke PostgreSQL\n",
    "engine = create_engine(f\"postgresql+psycopg2://{username}:{password}@{host}:{port}/{database}\")\n",
    "\n",
    "# Ambil daftar semua tabel di schema public\n",
    "tables = pd.read_sql(\"\"\"\n",
    "    SELECT table_name \n",
    "    FROM information_schema.tables \n",
    "    WHERE table_schema = 'public'\n",
    "\"\"\", engine)\n",
    "\n",
    "# Dictionary untuk simpan semua tabel sebagai DataFrame\n",
    "dataframes = {}\n",
    "\n",
    "# Loop tiap tabel dan load ke pandas\n",
    "for table in tables['table_name']:\n",
    "    query = f'SELECT * FROM public.\"{table}\";'\n",
    "    dataframes[table] = pd.read_sql(query, engine)\n",
    "\n",
    "# Contoh akses: tampilkan 5 data teratas dari coffe_sales\n",
    "print(dataframes['coffe_sales'].head())\n"
   ]
  },
  {
   "cell_type": "markdown",
   "id": "22c534d2",
   "metadata": {},
   "source": [
    "# Eksplorasi Data\n",
    "\n",
    "## 1. Tipe data\n",
    "\n",
    "\n",
    "Pada tampilan awal Power Bi terdapat fitur transform data (ubah data) pada bagian atas.\n",
    "\n",
    "\n",
    "![tipedata](tipedata.png)\n",
    "\n",
    "## 2. Kualitas Data\n",
    "\n",
    "## Melihat Outlier\n",
    "\n",
    "Untuk melihat outlier di sini menggunakan python visual di power bi dengan memasukkan kode seperti di gambar yaitu melihat data dengan scatterplot.\n",
    "\n",
    "\n",
    "![outlier.png](outlier.png)\n",
    "\n",
    "\n",
    "# Konsistensi Data\n",
    "\n",
    "\n",
    "Untuk melihat Konsistensi Data adalah pada fitur transform data dan pada bar view bisa melihat distribusi kolom, kualitas kolom dll.\n",
    "\n",
    "\n",
    "![konsistensidata.png](konsistensidata.png)\n",
    "\n",
    "\n",
    "# Missing Value\n",
    "\n",
    "*  Valid🟢\n",
    "\n",
    "*  Error🔴\n",
    "\n",
    "*  Empty⚫\n",
    "\n",
    "jika semua 100% maka tidak ada Missing Value"
   ]
  }
 ],
 "metadata": {
  "language_info": {
   "codemirror_mode": {
    "name": "ipython",
    "version": 3
   },
   "file_extension": ".py",
   "mimetype": "text/x-python",
   "name": "python",
   "nbconvert_exporter": "python",
   "pygments_lexer": "ipython3",
   "version": "3.11.5"
  }
 },
 "nbformat": 4,
 "nbformat_minor": 5
}