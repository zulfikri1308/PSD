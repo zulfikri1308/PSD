{
 "cells": [
  {
   "cell_type": "markdown",
   "id": "a5731ddb",
   "metadata": {},
   "source": [
    "# Bussiness Understanding\n",
    "\n",
    "##Apa itu Business Understanding? \n",
    "Business understanding adalah tahapan awal yang krusial dalam setiap proyek analisis data atau ilmu data. Bisa dibilang ini adalah \"fase mendengarkan,\" di mana kita bukan hanya menerima data, tetapi benar-benar berusaha memahami bisnis di balik data tersebut. Kita duduk bersama para ahli di bidangnya (pemilik bisnis, manajer, atau tim operasional) untuk mengidentifikasi apa masalah sebenarnya yang ingin dipecahkan, apa tujuannya, dan bagaimana kesuksesan proyek ini diukur.\n",
    "\n",
    "## Kenapa Business Understanding Itu Penting?\n",
    "Ini bukan hanya tentang punya data, tapi tentang punya tujuan. Bayangkan Anda punya peta lengkap, tapi tidak tahu ke mana tujuannya. Data itu peta Anda, sedangkan business understanding adalah tujuannya. Tujuannya adalah memastikan setiap langkah yang kita ambil dalam proyek data itu bermakna dan memberikan nilai nyata bagi perusahaan. Tanpa tahap ini, kita bisa saja menghasilkan model yang sangat canggih dan akurat, tapi model itu tidak relevan atau tidak bisa digunakan untuk mengambil keputusan bisnis.\n",
    "\n",
    "##Tujuan Business Understanding\n",
    "1. Mengidentifikasi Masalah yang Tepat: Seringkali, masalah yang terlihat di permukaan bukan masalah yang sebenarnya. Tujuan utama kita adalah menggali lebih dalam, mengajukan pertanyaan-pertanyaan kritis seperti \"mengapa ini terjadi?\" atau \"apa yang ingin Anda capai?\" sampai kita menemukan akar masalah yang sebenarnya.\n",
    "\n",
    "2. Menentukan Tujuan Proyek yang Jelas: Kita merumuskan tujuan yang spesifik, terukur, dapat dicapai, relevan, dan memiliki batasan waktu (SMART). Misalnya, alih-alih hanya \"meningkatkan penjualan,\" kita bisa merumuskannya menjadi \"meningkatkan penjualan produk A di wilayah X sebesar 15% dalam 6 bulan ke depan.\"\n",
    "\n",
    "3. Menghubungkan Tim Data dengan Tim Bisnis: Ini adalah jembatan komunikasi. Tim data jadi tahu kenapa mereka butuh data tertentu, dan tim bisnis jadi paham bagaimana data bisa membantu mereka. Kolaborasi ini memastikan bahwa produk akhir (model atau hasil analisis) bisa benar-benar diintegrasikan ke dalam operasional bisnis.\n",
    "\n",
    "## Contoh Praktis\n",
    "Studi Kasus: E-commerce \"Toko Serba Ada\"\n",
    "\n",
    "Permasalahan Awal:\n",
    "\n",
    "Manajemen \"Toko Serba Ada\" mengeluh bahwa penjualan mereka menurun, terutama dari pelanggan lama. Mereka ingin tim data membuat laporan penjualan bulanan.\n",
    "\n",
    "##Tahap Business Understanding:\n",
    "\n",
    "Tim data tidak langsung membuat laporan. Mereka mengajukan pertanyaan:\n",
    "\n",
    "* \"Apa yang dimaksud dengan 'penjualan menurun'? Apakah ini di semua kategori produk atau hanya di kategori tertentu?\"\n",
    "\n",
    "*  \"Siapa yang paling terpengaruh? Pelanggan baru atau pelanggan lama?\"\n",
    "\n",
    "*  \"Apa yang Anda rasakan menjadi penyebabnya? Apakah ada perubahan strategi pemasaran, harga, atau kompetitor baru?\"\n",
    "\n",
    "###Temuan:\n",
    "\n",
    "Setelah berdiskusi, mereka menemukan bahwa masalah utama adalah **tingginya tingkat churn pelanggan**. Pelanggan lama, setelah beberapa bulan, tidak lagi berbelanja di Toko Serba Ada. Laporan penjualan bulanan tidak akan menyelesaikan masalah ini.\n",
    "\n",
    "##Tujuan Proyek yang Baru:\n",
    "\n",
    "Berdasarkan temuan tersebut, tujuan proyek berubah menjadi: **\"Memprediksi pelanggan mana yang berpotensi churn (berhenti berbelanja) dalam 30 hari ke depan, sehingga tim pemasaran bisa memberikan penawaran khusus untuk mempertahankan mereka.\"**\n",
    "\n",
    "Dengan tujuan yang jelas ini, tim data tahu data apa yang harus mereka kumpulkan (riwayat pembelian, interaksi dengan website, data demografi), model apa yang harus dibangun (klasifikasi), dan metrik apa yang digunakan untuk mengukur keberhasilan (akurasi prediksi churn). Ini menunjukkan bagaimana business understanding mengubah proyek yang semula hanya membuat laporan menjadi proyek yang menghasilkan solusi bisnis yang strategis.\n"
   ]
  }
 ],
 "metadata": {
  "language_info": {
   "codemirror_mode": {
    "name": "ipython",
    "version": 3
   },
   "file_extension": ".py",
   "mimetype": "text/x-python",
   "name": "python",
   "nbconvert_exporter": "python",
   "pygments_lexer": "ipython3",
   "version": "3.11.5"
  }
 },
 "nbformat": 4,
 "nbformat_minor": 5
}